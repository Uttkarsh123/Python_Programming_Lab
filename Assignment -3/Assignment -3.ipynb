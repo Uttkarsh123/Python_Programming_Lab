{
 "cells": [
  {
   "cell_type": "code",
   "execution_count": 1,
   "id": "6f045087-25e4-423b-9267-403abe2a6cec",
   "metadata": {},
   "outputs": [
    {
     "name": "stdout",
     "output_type": "stream",
     "text": [
      " 2  3  5  7 11\n",
      "53 59 61 67 13\n",
      "47 89 97 71 17\n",
      "43 83 79 73 19\n",
      "41 37 31 29 23\n"
     ]
    }
   ],
   "source": [
    "\"\"\"Generate all prime numbers less than 100. Print them in a spiral format (like a clockwise square spiral) of minimal size that fits all primes.\n",
    "\"\"\"\n",
    "primes = []\n",
    "for num in range(2, 100):\n",
    "    for i in range(2, int(num**0.5)+1):\n",
    "        if num % i == 0:\n",
    "            break\n",
    "    else:\n",
    "        primes.append(num)\n",
    "\n",
    "n = 5\n",
    "grid = [[0]*n for _ in range(n)]\n",
    "top, bottom = 0, n-1\n",
    "left, right = 0, n-1\n",
    "index = 0\n",
    "\n",
    "while index < len(primes):\n",
    "    for i in range(left, right+1):\n",
    "        grid[top][i] = primes[index]\n",
    "        index += 1\n",
    "    top += 1\n",
    "\n",
    "    for i in range(top, bottom+1):\n",
    "        grid[i][right] = primes[index]\n",
    "        index += 1\n",
    "    right -= 1\n",
    "\n",
    "    for i in range(right, left-1, -1):\n",
    "        grid[bottom][i] = primes[index]\n",
    "        index += 1\n",
    "    bottom -= 1\n",
    "\n",
    "    for i in range(bottom, top-1, -1):\n",
    "        grid[i][left] = primes[index]\n",
    "        index += 1\n",
    "    left += 1\n",
    "    \n",
    "for row in grid:\n",
    "    print(\" \".join(f\"{x:2}\" for x in row))"
   ]
  },
  {
   "cell_type": "code",
   "execution_count": null,
   "id": "24bfd683-6af0-4d8f-a294-7f64e1ed149e",
   "metadata": {},
   "outputs": [
    {
     "name": "stdout",
     "output_type": "stream",
     "text": [
      "Hourly Views Graph (1 * = 5 views):\n",
      "\n",
      "Hour 00: **\n",
      "Hour 01: *****\n",
      "Hour 02: ******\n",
      "Hour 03: *\n",
      "Hour 04: ********\n",
      "Hour 05: ***\n",
      "Hour 06: *\n",
      "Hour 07: **\n",
      "Hour 08: ****\n",
      "Hour 09: ******\n",
      "Hour 10: **\n",
      "Hour 11: **********\n"
     ]
    }
   ],
   "source": [
    "\"\"\"\n",
    "You are a data analyst at a streaming platform, managing user interactions, analytics,\n",
    "and daily operations. Use a for loop to create a text-based graph of hourly views. For\n",
    "example, use * to represent every 5 views.\n",
    "\"\"\"\n",
    "hourly_views = [12, 25, 33, 8, 41, 19, 5, 10, 22, 30, 14, 50]\n",
    "\n",
    "print(\"Hourly Views Graph (1 * = 5 views):\\n\")\n",
    "\n",
    "for hour, views in enumerate(hourly_views):\n",
    "    stars = '*' * (views // 5)\n",
    "    print(f\"Hour {hour:02}: {stars}\")\n"
   ]
  },
  {
   "cell_type": "code",
   "execution_count": 9,
   "id": "b9bc0a43-1320-48f2-bebc-13c298a43068",
   "metadata": {},
   "outputs": [
    {
     "name": "stdout",
     "output_type": "stream",
     "text": [
      "Total daily revenue: $193.10\n"
     ]
    }
   ],
   "source": [
    "\"\"\"\n",
    "Each video watched generates revenue based on ad impressions:\n",
    "    1. First 10 views: $0.50 per view\n",
    "    2. Next 20 views: $0.30 per view\n",
    "    3. Remaining views: $0.10 per view\n",
    "You are given hourly views for the day. Calculate total daily revenue.\n",
    "\"\"\"\n",
    "hourly_views = [18, 25, 35, 8, 41, 19, 5, 10, 22, 30, 14, 57, 27, 6, 12, 16, 39, 17, 9, 24, 19, 17, 26, 31]\n",
    "\n",
    "total_revenue = 0\n",
    "\n",
    "for views in hourly_views:\n",
    "    revenue = 0\n",
    "    if views <= 10:\n",
    "        revenue = views * 0.50\n",
    "    elif views <= 30:\n",
    "        revenue = 10 * 0.50 + (views - 10) * 0.30\n",
    "    else:\n",
    "        revenue = 10 * 0.50 + 20 * 0.30 + (views - 30) * 0.10\n",
    "    total_revenue += revenue\n",
    "\n",
    "print(f\"Total daily revenue: ${total_revenue:.2f}\")\n"
   ]
  }
 ],
 "metadata": {
  "kernelspec": {
   "display_name": "Python 3",
   "language": "python",
   "name": "python3"
  },
  "language_info": {
   "codemirror_mode": {
    "name": "ipython",
    "version": 3
   },
   "file_extension": ".py",
   "mimetype": "text/x-python",
   "name": "python",
   "nbconvert_exporter": "python",
   "pygments_lexer": "ipython3",
   "version": "3.12.1"
  }
 },
 "nbformat": 4,
 "nbformat_minor": 5
}
