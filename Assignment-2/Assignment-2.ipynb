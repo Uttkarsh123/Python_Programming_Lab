{
 "cells": [
  {
   "cell_type": "code",
   "execution_count": null,
   "id": "b4276e61-62fc-4265-bc62-e2cb07a66891",
   "metadata": {},
   "outputs": [],
   "source": [
    "\"\"\"\n",
    "Subject: Python Programming Laboratory\n",
    "Topic: Assignment -2\n",
    "\n",
    "Submitted by:\n",
    "Name: Uttkarsh Dhiman\n",
    "Roll No: 25201319\n",
    "Course: M.Tech Artificial Intelligence (Semester -1)\n",
    "\"\"\""
   ]
  },
  {
   "cell_type": "code",
   "execution_count": 1,
   "id": "eebf6cdf-dd06-4549-a821-4b2c7350edf6",
   "metadata": {},
   "outputs": [
    {
     "name": "stdin",
     "output_type": "stream",
     "text": [
      "Enter a number 24\n"
     ]
    },
    {
     "name": "stdout",
     "output_type": "stream",
     "text": [
      "Entered Number is Positve\n"
     ]
    },
    {
     "name": "stdin",
     "output_type": "stream",
     "text": [
      "Enter a number -8\n"
     ]
    },
    {
     "name": "stdout",
     "output_type": "stream",
     "text": [
      "Entered Number is Negative\n"
     ]
    }
   ],
   "source": [
    "\"\"\"\n",
    "Question 1 Positive or Negative\n",
    "Write a program to check whether a given number is positive, negative, or zero\n",
    "\"\"\"\n",
    "\n",
    "def check_positive_negative(num):\n",
    "    if num>0:\n",
    "         print(\"Entered Number is Positve\")\n",
    "    elif num<0:\n",
    "         print(\"Entered Number is Negative\")\n",
    "    else:\n",
    "        print(\"Entered Number is Zero\")\n",
    "\n",
    "number1 = int(input(\"Enter a number:\"))\n",
    "check_positive_negative(number1)\n",
    "\n",
    "number2 = int(input(\"Enter a number:\"))\n",
    "check_positive_negative(number2)\n"
   ]
  },
  {
   "cell_type": "code",
   "execution_count": 5,
   "id": "2d6648bc-1720-4d8c-8590-7c2f776316f7",
   "metadata": {},
   "outputs": [
    {
     "name": "stdin",
     "output_type": "stream",
     "text": [
      "Enter a number: 25\n"
     ]
    },
    {
     "name": "stdout",
     "output_type": "stream",
     "text": [
      "25 is Odd\n"
     ]
    },
    {
     "name": "stdin",
     "output_type": "stream",
     "text": [
      "Enter a number: 16\n"
     ]
    },
    {
     "name": "stdout",
     "output_type": "stream",
     "text": [
      "16 is Even\n"
     ]
    }
   ],
   "source": [
    "\"\"\"\n",
    "Question 2 Even or Odd\n",
    "Write a program to check whether a given integer is even or odd. \n",
    "\"\"\"\n",
    "\n",
    "def even_odd(num):\n",
    "    if(num%2==0):\n",
    "        print(f\"{num} is Even\")\n",
    "    else:\n",
    "         print(f\"{num} is Odd\")\n",
    "\n",
    "number1 = int(input(\"Enter a number:\"))\n",
    "even_odd(number1)\n",
    "\n",
    "number2 = int(input(\"Enter a number:\"))\n",
    "even_odd(number2)"
   ]
  },
  {
   "cell_type": "code",
   "execution_count": 9,
   "id": "db5c149b-54bb-4533-9120-2b777041bd65",
   "metadata": {},
   "outputs": [
    {
     "name": "stdout",
     "output_type": "stream",
     "text": [
      "Example 1\n"
     ]
    },
    {
     "name": "stdin",
     "output_type": "stream",
     "text": [
      "Enter first number:  54\n",
      "Enter second number:  31\n"
     ]
    },
    {
     "name": "stdout",
     "output_type": "stream",
     "text": [
      "Larger Number: 54\n",
      "\n",
      "Example 2\n"
     ]
    },
    {
     "name": "stdin",
     "output_type": "stream",
     "text": [
      "Enter first number:  21\n",
      "Enter second number:  21\n"
     ]
    },
    {
     "name": "stdout",
     "output_type": "stream",
     "text": [
      "Larger Number: Both numbers are equal\n"
     ]
    }
   ],
   "source": [
    "\"\"\"\n",
    "Question 3. Largest of Two Numbers\n",
    "Write a program to input two numbers and print which one is larger.\n",
    "\"\"\"\n",
    "\n",
    "# Function to find the largest of two numbers\n",
    "def find_largest(num1, num2):\n",
    "    if num1 > num2:\n",
    "        return num1\n",
    "    elif num2 > num1:\n",
    "        return num2\n",
    "    else:\n",
    "        return \"Both numbers are equal\"\n",
    "\n",
    "print(\"Example 1\")\n",
    "a = int(input(\"Enter first number: \"))\n",
    "b = int(input(\"Enter second number: \"))\n",
    "result1 = find_largest(a, b)\n",
    "print(\"Larger Number:\", result1)\n",
    "\n",
    "print(\"\\nExample 2\")\n",
    "x = int(input(\"Enter first number: \"))\n",
    "y = int(input(\"Enter second number: \"))\n",
    "result2 = find_largest(x, y)\n",
    "print(\"Larger Number:\", result2)"
   ]
  },
  {
   "cell_type": "code",
   "execution_count": 13,
   "id": "d609f9db-5856-4e2f-8a15-f03ea31a620b",
   "metadata": {},
   "outputs": [
    {
     "name": "stdout",
     "output_type": "stream",
     "text": [
      "Example 1\n"
     ]
    },
    {
     "name": "stdin",
     "output_type": "stream",
     "text": [
      "Enter a number:  -75\n"
     ]
    },
    {
     "name": "stdout",
     "output_type": "stream",
     "text": [
      "Absolute value: 75\n",
      "\n",
      "Example 2\n"
     ]
    },
    {
     "name": "stdin",
     "output_type": "stream",
     "text": [
      "Enter another number:  24\n"
     ]
    },
    {
     "name": "stdout",
     "output_type": "stream",
     "text": [
      "Absolute value: 24\n"
     ]
    }
   ],
   "source": [
    "\"\"\"\n",
    "Question 4. Absolute Value\n",
    "Write a program to find the absolute value of a given number without using the abs() \n",
    "function.\n",
    "\"\"\"\n",
    "\n",
    "def absolute_value(num):\n",
    "    #Checking if the number is smaller than zero (negative) then we return the negative of it\n",
    "    if num < 0:\n",
    "        return -num\n",
    "    #if number is positive then we retrun it as it is\n",
    "    else:\n",
    "        return num\n",
    "\n",
    "print(\"Example 1\")\n",
    "number1 = int(input(\"Enter a number: \"))\n",
    "print(\"Absolute value:\", absolute_value(number1))\n",
    "\n",
    "print(\"\\nExample 2\")\n",
    "number2 = int(input(\"Enter another number: \"))\n",
    "print(\"Absolute value:\", absolute_value(number2))\n"
   ]
  },
  {
   "cell_type": "code",
   "execution_count": 27,
   "id": "40c4bfe1-bda5-4d5d-b3b5-cea5a1cce5fc",
   "metadata": {},
   "outputs": [
    {
     "name": "stdin",
     "output_type": "stream",
     "text": [
      "Enter your age: 17\n"
     ]
    },
    {
     "name": "stdout",
     "output_type": "stream",
     "text": [
      "Not Eligible to vote\n"
     ]
    },
    {
     "name": "stdin",
     "output_type": "stream",
     "text": [
      "Enter your age: 35\n"
     ]
    },
    {
     "name": "stdout",
     "output_type": "stream",
     "text": [
      "Eligible to vote\n"
     ]
    }
   ],
   "source": [
    "\"\"\"\n",
    "Question 5. Eligibility for Voting\n",
    "Write a program to check whether a person is eligible to vote or not. (A person is \n",
    "eligible if their age is 18 or above). \n",
    "\"\"\"\n",
    "\n",
    "def check_voting_eligibility(age):\n",
    "    if age >=18:\n",
    "        return \"Eligible to vote\"\n",
    "    else:\n",
    "        return \"Not Eligible to vote\"\n",
    "\n",
    "age1 = int(input(\"Enter your age:\"))\n",
    "print(check_voting_eligibility(age1))\n",
    "\n",
    "age2 = int(input(\"Enter your age:\"))\n",
    "print(check_voting_eligibility(age2))\n",
    "    "
   ]
  },
  {
   "cell_type": "code",
   "execution_count": 35,
   "id": "8e9f89de-4a68-48b7-be1a-8c5d08a210a6",
   "metadata": {},
   "outputs": [
    {
     "name": "stdin",
     "output_type": "stream",
     "text": [
      "Enter first year:  2012\n"
     ]
    },
    {
     "name": "stdout",
     "output_type": "stream",
     "text": [
      "2012 is a leap year: True\n"
     ]
    },
    {
     "name": "stdin",
     "output_type": "stream",
     "text": [
      "\n",
      "Enter second year:  1900\n"
     ]
    },
    {
     "name": "stdout",
     "output_type": "stream",
     "text": [
      "1900 is a leap year: False\n"
     ]
    }
   ],
   "source": [
    "\"\"\"\n",
    "Question 6. Leap Year Check\n",
    "Write a program to check whether a given year is a leap year or not. (Hint: A leap year is \n",
    "divisible by 4, but not by 100 unless also divisible by 400)\n",
    "\"\"\"\n",
    "\n",
    "def check_leap_year(year):\n",
    "    if year % 4 == 0:\n",
    "        if year % 100 == 0:\n",
    "            if year % 400 == 0:\n",
    "                return True  # Divisible by 400 -> leap year\n",
    "            else:\n",
    "                return False  # Divisible by 100 but not 400 -> not leap year\n",
    "        else:\n",
    "            return True  # Divisible by 4 but not by 100 -> leap year\n",
    "    else:\n",
    "        return False \n",
    "\n",
    "year1 = int(input(\"Enter first year: \"))\n",
    "print(f\"{year1} is a leap year: {check_leap_year(year1)}\")\n",
    "\n",
    "year2 = int(input(\"\\nEnter second year: \"))\n",
    "print(f\"{year2} is a leap year: {check_leap_year(year2)}\")\n",
    "\n",
    "        "
   ]
  },
  {
   "cell_type": "code",
   "execution_count": 17,
   "id": "8fc5f8b0-cdec-413c-8b5e-1b9ea27bf723",
   "metadata": {},
   "outputs": [
    {
     "name": "stdin",
     "output_type": "stream",
     "text": [
      "Enter marks for student #1:  78.5\n"
     ]
    },
    {
     "name": "stdout",
     "output_type": "stream",
     "text": [
      "Pass\n"
     ]
    },
    {
     "name": "stdin",
     "output_type": "stream",
     "text": [
      "Enter marks for student #2:  45.8\n"
     ]
    },
    {
     "name": "stdout",
     "output_type": "stream",
     "text": [
      "Pass\n"
     ]
    }
   ],
   "source": [
    "\"\"\"\n",
    "Question 7. Grade Calculation\n",
    "Write a program that takes marks as input and prints: \n",
    "- 'Pass' if marks are 40 or above \n",
    "- 'Fail' if marks are less than 40\n",
    "\"\"\"\n",
    "\n",
    "def grade_calculation(marks):\n",
    "    #Pass if marks are greater than or equal to 40 otherwise fail\n",
    "    if marks >= 40:\n",
    "        return \"Pass\"\n",
    "    else:\n",
    "        return \"Fail\"\n",
    "\n",
    "# Take input and check for two examples\n",
    "marks = float(input(f\"Enter marks for student #1: \"))\n",
    "print(grade_calculation(marks))\n",
    "\n",
    "marks = float(input(f\"Enter marks for student #2: \"))\n",
    "print(grade_calculation(marks))\n"
   ]
  },
  {
   "cell_type": "code",
   "execution_count": 39,
   "id": "1d02d89f-9f5c-4064-ab0c-d57824eb2d5a",
   "metadata": {},
   "outputs": [
    {
     "name": "stdin",
     "output_type": "stream",
     "text": [
      "Enter a number 15\n"
     ]
    },
    {
     "name": "stdout",
     "output_type": "stream",
     "text": [
      "15 is a multiple of 5\n"
     ]
    },
    {
     "name": "stdin",
     "output_type": "stream",
     "text": [
      "\n",
      "Enter a number 26\n"
     ]
    },
    {
     "name": "stdout",
     "output_type": "stream",
     "text": [
      "26 is not a multiple of 5\n"
     ]
    }
   ],
   "source": [
    "\"\"\"\n",
    "Question 8. Multiple of 5\n",
    "Write a program to check whether a given number is a multiple of 5.\n",
    "\"\"\"\n",
    "\n",
    "def check_multiple_five(num):\n",
    "    if(num%5==0):\n",
    "        print(f\"{num} is a multiple of 5\")\n",
    "    else:\n",
    "        print(f\"{num} is not a multiple of 5\")\n",
    "\n",
    "num1 = int(input(\"Enter a number\"))\n",
    "check_multiple_five(num1)\n",
    "\n",
    "num2 = int(input(\"\\nEnter a number\"))\n",
    "check_multiple_five(num2)"
   ]
  },
  {
   "cell_type": "code",
   "execution_count": 47,
   "id": "190660c0-bdc0-4470-b47b-b4a1690ee678",
   "metadata": {},
   "outputs": [
    {
     "name": "stdin",
     "output_type": "stream",
     "text": [
      "Enter a Character A\n"
     ]
    },
    {
     "name": "stdout",
     "output_type": "stream",
     "text": [
      "A is in : Uppercase\n"
     ]
    },
    {
     "name": "stdin",
     "output_type": "stream",
     "text": [
      "\n",
      "Enter a Character a\n"
     ]
    },
    {
     "name": "stdout",
     "output_type": "stream",
     "text": [
      "A is in : Lowercase\n"
     ]
    },
    {
     "name": "stdin",
     "output_type": "stream",
     "text": [
      "\n",
      "Enter a Character 5\n"
     ]
    },
    {
     "name": "stdout",
     "output_type": "stream",
     "text": [
      "A is in :  Not a Character\n"
     ]
    }
   ],
   "source": [
    "\"\"\"\n",
    "Question 9. Character Case Check\n",
    "Write a program to input a character and check whether it is an uppercase letter, \n",
    "lowercase letter, or not a letter.\n",
    "\"\"\"\n",
    "\n",
    "def check_charcter_case(ch):\n",
    "    if ch.isalpha():\n",
    "        if ch.isupper():\n",
    "            result =\"Uppercase\"\n",
    "        else :\n",
    "            result = \"Lowercase\"\n",
    "    else:\n",
    "        result=\" Not a Character\"\n",
    "\n",
    "    return result\n",
    "\n",
    "ch1 = input(\"Enter a Character\")\n",
    "print(f\"{ch1} is in : {check_charcter_case(ch1)}\")\n",
    "\n",
    "ch2 = input(\"\\nEnter a Character\")\n",
    "print(f\"{ch1} is in : {check_charcter_case(ch2)}\")\n",
    "\n",
    "ch3 = input(\"\\nEnter a Character\")\n",
    "print(f\"{ch1} is in : {check_charcter_case(ch3)}\")"
   ]
  },
  {
   "cell_type": "code",
   "execution_count": 49,
   "id": "7516b514-5f05-44da-8d64-ad0e378231b4",
   "metadata": {},
   "outputs": [
    {
     "name": "stdin",
     "output_type": "stream",
     "text": [
      "Enter the Purchase Amount: 2000\n"
     ]
    },
    {
     "name": "stdout",
     "output_type": "stream",
     "text": [
      "************ BILL ************\n",
      "Purchase Amount : 2000.0\n",
      "Discount : 200.0\n",
      "Total Amount: 1800.0\n"
     ]
    }
   ],
   "source": [
    "\"\"\"\n",
    "Question 10. Discount Calculator\n",
    "Write a program that calculates the discount:\n",
    "- If purchase amount is greater than or equal to 1000, apply a 10% discount.\n",
    "- Otherwise, no discount.\n",
    "Finally, print the final bill amount\n",
    "\"\"\"\n",
    "\n",
    "def discount_calculator(purchase_amnt):\n",
    "    if purchase_amnt >1000:\n",
    "        return 0.1*purchase_amnt\n",
    "    else:\n",
    "        return 0.0\n",
    "\n",
    "amount = float(input(\"Enter the Purchase Amount:\"))\n",
    "discount = discount_calculator(amount)\n",
    "\n",
    "print(format(\" BILL \",\"*^30\"))\n",
    "print(\"Purchase Amount :\", amount)\n",
    "print(\"Discount :\",discount)\n",
    "print(\"Total Amount:\", amount-discount)"
   ]
  }
 ],
 "metadata": {
  "kernelspec": {
   "display_name": "Python 3 (ipykernel)",
   "language": "python",
   "name": "python3"
  },
  "language_info": {
   "codemirror_mode": {
    "name": "ipython",
    "version": 3
   },
   "file_extension": ".py",
   "mimetype": "text/x-python",
   "name": "python",
   "nbconvert_exporter": "python",
   "pygments_lexer": "ipython3",
   "version": "3.12.7"
  }
 },
 "nbformat": 4,
 "nbformat_minor": 5
}
