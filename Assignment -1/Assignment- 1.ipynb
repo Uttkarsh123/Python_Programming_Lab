{
 "cells": [
  {
   "cell_type": "code",
   "execution_count": 45,
   "id": "b59653f6-e4bf-49f8-bbb5-299905be24ff",
   "metadata": {},
   "outputs": [
    {
     "name": "stdout",
     "output_type": "stream",
     "text": [
      "--------- Example 1 ----------\n",
      "Original List : [(2, 5), (1, 2), (4, 4), (2, 3), (2, 1)]\n",
      "Sorted List: [(2, 1), (1, 2), (2, 3), (4, 4), (2, 5)] \n",
      "\n",
      "----------Example 2 ----------\n",
      "Original List : [(2, 7), (2, 2), (4, 3), (5, 4), (9, 5)]\n",
      "Sorted List: [(2, 2), (4, 3), (5, 4), (9, 5), (2, 7)]\n"
     ]
    }
   ],
   "source": [
    "\"\"\" \n",
    "Question 1 : Write a Python program to get a list, sorted in increasing order by the last element in each tuple from a given list of non-empty tuples.\n",
    "Sample List : [(2, 5), (1, 2), (4, 4), (2, 3), (2, 1)] \n",
    "\"\"\"\n",
    "\n",
    "def sort_by_last_element(sampl_list):\n",
    "    result = sorted(sampl_list, key=last_tuple_element)\n",
    "    return result\n",
    "\n",
    "def last_tuple_element(tupl):\n",
    "    return tupl[-1]\n",
    "\n",
    "print(format(\" Example 1 \",\"-^30\"))\n",
    "sample_list = [(2, 5), (1, 2), (4, 4), (2, 3), (2, 1)]\n",
    "sorted_list = sort_by_last_element(sample_list)\n",
    "print(\"Original List :\",sample_list)\n",
    "print(\"Sorted List:\", sorted_list,\"\\n\")\n",
    "\n",
    "print(format(\"Example 2 \",\"-^30\"))\n",
    "sample_list = [(2, 7), (2, 2), (4, 3), (5, 4), (9, 5)]\n",
    "sorted_list = sort_by_last_element(sample_list)\n",
    "print(\"Original List :\",sample_list)\n",
    "print(\"Sorted List:\", sorted_list)\n",
    "\n"
   ]
  },
  {
   "cell_type": "code",
   "execution_count": 25,
   "id": "d9f4425e-c740-4706-b7ad-f7f39edce4c3",
   "metadata": {},
   "outputs": [
    {
     "name": "stdout",
     "output_type": "stream",
     "text": [
      "--------- Example 1 ----------\n",
      "Original String : restart\n",
      "Replaced String : resta$t \n",
      "\n",
      "--------- Example 2 ----------\n",
      "Original String : Python Programming Plus\n",
      "Replaced String : Python $rogramming $lus \n",
      "\n"
     ]
    }
   ],
   "source": [
    "\"\"\"\n",
    "Question 2: Write a Python program to get a string from a given string where all occurrences of its first char have been\n",
    "changed to \"$\", except the first char itself. \n",
    "Sample String :'restart';\n",
    "\"\"\"\n",
    "\n",
    "def replace_char(strng):\n",
    "    if not strng :\n",
    "        return \"\"\n",
    "    first_char = strng[0]\n",
    "    remaining_string = strng[1:]\n",
    "    return first_char+remaining_string.replace(first_char,\"$\")\n",
    "\n",
    "string_1 = \"restart\"\n",
    "string_2 = \"Python Programming Plus\"\n",
    "\n",
    "print(format(\" Example 1 \",\"-^30\"))\n",
    "print(\"Original String :\",string_1)\n",
    "print(\"Replaced String :\",replace_char(string_1),\"\\n\")\n",
    "print(format(\" Example 2 \",\"-^30\"))\n",
    "print(\"Original String :\",string_2)\n",
    "print(\"Replaced String :\",replace_char(string_2),\"\\n\")"
   ]
  },
  {
   "cell_type": "code",
   "execution_count": 19,
   "id": "e0b12d81-cdb6-474d-af69-0ee0ef12b05c",
   "metadata": {},
   "outputs": [
    {
     "name": "stdout",
     "output_type": "stream",
     "text": [
      "********* Example _1 *********\n",
      "Original String : The Food is not that poor\n",
      "String After replacement : The Food is good \n",
      "\n",
      "********* Example _2 *********\n",
      "Original String : The lyrics are not that poor\n",
      "String After replacement : The lyrics are good\n"
     ]
    }
   ],
   "source": [
    "\"\"\" Question 3 : Write a Python program to find the first appearance of the  substring'not' and 'poor' from a given string.\n",
    "If 'bad' follows the 'poor', replace the whole 'not'....'poor' substring with 'good'.\n",
    "Return the resulting string.\"\"\"\n",
    "\n",
    "def replace_poor_not(text):\n",
    "    index_not = text.find(\"not\")\n",
    "    index_poor = text.find(\"poor\")\n",
    "    \n",
    "    #Checking if poor comes after not\n",
    "    if index_not !=-1 and index_poor !=-1 and index_not<index_poor:\n",
    "        new_text = text[:index_not]+\"good\"+text[index_poor+len(\"poor\"):]\n",
    "        return new_text\n",
    "\n",
    "    return text\n",
    "    \n",
    "    \n",
    "original_text_1 = \"The Food is not that poor\"\n",
    "replaced_text_1 = replace_poor_not(original_text_1)\n",
    "print(format(\" Example _1 \",\"*^30\"))\n",
    "print(\"Original String :\",original_text_1)\n",
    "print(\"String After replacement :\",replaced_text_1,\"\\n\")\n",
    "\n",
    "original_text_1 = \"The lyrics are not that poor\"\n",
    "replaced_text_1 = replace_poor_not(original_text_1)\n",
    "print(format(\" Example _2 \",\"*^30\"))\n",
    "print(\"Original String :\",original_text_1)\n",
    "print(\"String After replacement :\",replaced_text_1)"
   ]
  },
  {
   "cell_type": "code",
   "execution_count": 9,
   "id": "f9375e58-15ee-445f-97b4-fce3fdb0a246",
   "metadata": {},
   "outputs": [
    {
     "name": "stdout",
     "output_type": "stream",
     "text": [
      "********* Example 1 **********\n",
      "Original Dictionary : {'apple': 9, 'banana': 8, 'mango': 10, 'guava': 6, 'kiwi': 9}\n",
      "Sorted Dictionay : [('guava', 6), ('banana', 8), ('apple', 9), ('kiwi', 9), ('mango', 10)] \n",
      "\n",
      "********* Example 2 **********\n",
      "Original Dictionary : {'math': 85, 'science': 90, 'history': 78, 'english': 92, 'art': 80}\n",
      "Sorted Dictionary : [('history', 78), ('art', 80), ('math', 85), ('science', 90), ('english', 92)] \n",
      "\n"
     ]
    }
   ],
   "source": [
    "\"\"\" \n",
    "Question 4 : Write a python program to sort a dictionary by value.\n",
    "\"\"\"\n",
    "\n",
    "def sort_dictionary_by_value(dictionary):\n",
    "    result = sorted(dictionary.items(), key =get_value)\n",
    "    return result\n",
    "\n",
    "def get_value(item):\n",
    "    return item[1]\n",
    "\n",
    "print(format(\" Example 1 \",\"*^30\"))\n",
    "my_dict_1 = {\"apple\":9,\"banana\":8,\"mango\":10,\"guava\":6,\"kiwi\":9}\n",
    "sorted_dict_1= sort_dictionary_by_value(my_dict_1)\n",
    "print(\"Original Dictionary :\",my_dict_1)\n",
    "print(\"Sorted Dictionay :\",sorted_dict_1,\"\\n\")\n",
    "\n",
    "print(format(\" Example 2 \",\"*^30\"))\n",
    "my_dict_2 = {\"math\": 85, \"science\": 90, \"history\": 78, \"english\": 92, \"art\": 80}\n",
    "sorted_dict_2 = sort_dictionary_by_value(my_dict_2)\n",
    "print(\"Original Dictionary :\", my_dict_2)\n",
    "print(\"Sorted Dictionary :\", sorted_dict_2, \"\\n\")"
   ]
  },
  {
   "cell_type": "code",
   "execution_count": 3,
   "id": "49332c6b-ce42-4f4f-be74-2f9023998f9c",
   "metadata": {},
   "outputs": [
    {
     "name": "stdout",
     "output_type": "stream",
     "text": [
      "Initial Dictionary : {'name': 'Amit', 'age': 24}\n",
      "Dictionary after adding new keys :  {'name': 'Amit', 'age': 24, 'City': 'New York', 'Job': 'Software Engineer'}\n"
     ]
    }
   ],
   "source": [
    "\"\"\"\n",
    "Question :5 Write a python program to add key to a dictionary.\n",
    "\"\"\"\n",
    "\n",
    "dictionary_1 = {\n",
    "    \"name\": \"Amit\",\n",
    "    \"age\":24\n",
    "}\n",
    "print (\"Initial Dictionary :\", dictionary_1) \n",
    "\n",
    "#new Keys\n",
    "new_key_1 = \"City\"\n",
    "new_value_1 = \"New York\"\n",
    "\n",
    "new_key_2 = \"Job\"\n",
    "new_value_2 = \"Software Engineer\"\n",
    "\n",
    "#Adding Keys to Dictionary\n",
    "dictionary_1[new_key_1] = new_value_1\n",
    "dictionary_1[new_key_2] = new_value_2\n",
    "\n",
    "print(\"Dictionary after adding new keys : \",dictionary_1)"
   ]
  },
  {
   "cell_type": "code",
   "execution_count": null,
   "id": "453a5f80-6f60-42a4-ad73-b007d7cc6b2b",
   "metadata": {},
   "outputs": [],
   "source": []
  }
 ],
 "metadata": {
  "kernelspec": {
   "display_name": "Python 3 (ipykernel)",
   "language": "python",
   "name": "python3"
  },
  "language_info": {
   "codemirror_mode": {
    "name": "ipython",
    "version": 3
   },
   "file_extension": ".py",
   "mimetype": "text/x-python",
   "name": "python",
   "nbconvert_exporter": "python",
   "pygments_lexer": "ipython3",
   "version": "3.12.7"
  }
 },
 "nbformat": 4,
 "nbformat_minor": 5
}
